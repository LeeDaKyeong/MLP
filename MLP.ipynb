{
 "cells": [
  {
   "cell_type": "code",
   "execution_count": 2,
   "metadata": {
    "collapsed": true
   },
   "outputs": [],
   "source": [
    "%matplotlib inline\n",
    "import numpy as np\n",
    "import pandas as pd\n",
    "import matplotlib.pyplot as plt\n",
    "\n",
    "from keras.datasets import mnist\n",
    "from keras.utils import to_categorical"
   ]
  },
  {
   "cell_type": "markdown",
   "metadata": {},
   "source": [
    "mnist 데이터"
   ]
  },
  {
   "cell_type": "code",
   "execution_count": 43,
   "metadata": {},
   "outputs": [
    {
     "name": "stdout",
     "output_type": "stream",
     "text": [
      "(60000, 28, 28) (10000, 28, 28)\n",
      "(60000,) (10000,)\n"
     ]
    }
   ],
   "source": [
    "((X_train, y_train), (X_test, y_test)) = mnist.load_data()\n",
    "print(X_train.shape, X_test.shape)\n",
    "print(y_train.shape, y_test.shape)\n",
    "\n",
    "y_train = to_categorical(y_train)\n",
    "y_test = to_categorical(y_test)\n",
    "\n",
    "print(y_train.shape, y_test.shape)\n",
    "\n",
    "X_train = X_train.reshape(60000, 28*28)\n",
    "X_test = X_test.reshape(10000, 28*28)\n",
    "\n",
    "print(X_train.shape, X_test.shape)"
   ]
  },
  {
   "cell_type": "markdown",
   "metadata": {},
   "source": [
    "활성함수"
   ]
  },
  {
   "cell_type": "code",
   "execution_count": 46,
   "metadata": {},
   "outputs": [
    {
     "name": "stdout",
     "output_type": "stream",
     "text": [
      "0.000123394575986\n",
      "0.5\n",
      "0.999876605424\n"
     ]
    }
   ],
   "source": [
    "#활성함수\n",
    "def sigmoid(n):\n",
    "    return 1 / (1 + np.exp(-n))\n",
    "\n",
    "print(sigmoid(-9))\n",
    "print(sigmoid(0))\n",
    "print(sigmoid(+9))"
   ]
  },
  {
   "cell_type": "code",
   "execution_count": 31,
   "metadata": {},
   "outputs": [
    {
     "name": "stdout",
     "output_type": "stream",
     "text": [
      "[1 2 0]\n"
     ]
    }
   ],
   "source": [
    "#활성함수\n",
    "def relu(n):\n",
    "    n[n<0] = 0\n",
    "    return n\n",
    "    \n",
    "n = np.array([1,2,-2])    \n",
    "print(relu(n))"
   ]
  },
  {
   "cell_type": "code",
   "execution_count": 58,
   "metadata": {
    "collapsed": true
   },
   "outputs": [],
   "source": [
    "def softmax(f):\n",
    "    f = f - np.max(f) \n",
    "    p = np.exp(f) / np.sum(np.exp(f))\n",
    "    return p"
   ]
  },
  {
   "cell_type": "markdown",
   "metadata": {},
   "source": [
    "cost"
   ]
  },
  {
   "cell_type": "code",
   "execution_count": 59,
   "metadata": {
    "collapsed": true
   },
   "outputs": [],
   "source": [
    "#cost\n",
    "def cross_entropy(p,y):\n",
    "    return p.dot(y)"
   ]
  },
  {
   "cell_type": "code",
   "execution_count": 55,
   "metadata": {
    "collapsed": true
   },
   "outputs": [],
   "source": [
    "#cost\n",
    "def mean_squared_error(predict, y):\n",
    "    error = (predict.argmax(axis=1) != y.argmax(axis=1)).mean()\n",
    "    return error"
   ]
  },
  {
   "cell_type": "markdown",
   "metadata": {},
   "source": [
    "optimizer"
   ]
  },
  {
   "cell_type": "code",
   "execution_count": null,
   "metadata": {
    "collapsed": true
   },
   "outputs": [],
   "source": [
    "def SGD():\n",
    "    "
   ]
  },
  {
   "cell_type": "markdown",
   "metadata": {},
   "source": [
    "batch"
   ]
  },
  {
   "cell_type": "code",
   "execution_count": null,
   "metadata": {
    "collapsed": true
   },
   "outputs": [],
   "source": []
  },
  {
   "cell_type": "markdown",
   "metadata": {},
   "source": [
    "train & test"
   ]
  },
  {
   "cell_type": "code",
   "execution_count": 47,
   "metadata": {},
   "outputs": [
    {
     "name": "stdout",
     "output_type": "stream",
     "text": [
      "(60000, 784)\n",
      "(784, 50) (50,)\n",
      "(50, 100) (100,)\n",
      "(100, 10) (10,)\n"
     ]
    }
   ],
   "source": [
    "size_layer1 = 50\n",
    "size_layer2 = 100\n",
    "size_output = 10\n",
    "#weight1 = np.random.uniform(high=1.0, low=-1.0, size=(784, size_layer1))\n",
    "weight1 = np.random.uniform(high=np.sqrt(6 / (784 + size_layer1)), low=-np.sqrt(6 / (784 + size_layer1)), size=(784, size_layer1))\n",
    "bias1 = np.random.uniform(high=1.0, low=-1.0, size=size_layer1)\n",
    "#weight2 = np.random.uniform(high=1.0, low=-1.0, size=(size_layer1, size_layer2))\n",
    "weight2 = np.random.uniform(high=np.sqrt(6 / (size_layer1 + size_layer2)), low=-np.sqrt(6 / (size_layer1 + size_layer2)), size=(size_layer1, size_layer2))\n",
    "bias2 = np.random.uniform(high=1.0, low=-1.0, size=size_layer2)\n",
    "#weight3 = np.random.uniform(high=1.0, low=-1.0, size=(size_layer2, size_output))\n",
    "weight3 = np.random.uniform(high=np.sqrt(6 / (size_layer2 + size_output)), low=-np.sqrt(6 / (size_layer2 + size_output)), size=(size_layer2, size_output))\n",
    "bias3 = np.random.uniform(high=1.0, low=-1.0, size=size_output)\n",
    "\n",
    "print(X_train.shape)\n",
    "print(weight1.shape, bias1.shape)\n",
    "print(weight2.shape, bias2.shape)\n",
    "print(weight3.shape, bias3.shape)"
   ]
  },
  {
   "cell_type": "code",
   "execution_count": 56,
   "metadata": {},
   "outputs": [
    {
     "name": "stdout",
     "output_type": "stream",
     "text": [
      "0 : 0.8998666666666667\n",
      "0 : [9 9 9 9 9 9 9 9 9 9 9 9 9 9 9 9 9 9 9 9] / [5 0 4 1 9 2 1 3 1 4 3 5 3 6 1 7 2 8 6 9]\n",
      "----------------------------------------\n",
      "1 : 0.8998666666666667\n",
      "1 : [9 9 9 9 9 9 9 9 9 9 9 9 9 9 9 9 9 9 9 9] / [5 0 4 1 9 2 1 3 1 4 3 5 3 6 1 7 2 8 6 9]\n",
      "----------------------------------------\n",
      "2 : 0.8998666666666667\n",
      "2 : [9 9 9 9 9 9 9 9 9 9 9 9 9 9 9 9 9 9 9 9] / [5 0 4 1 9 2 1 3 1 4 3 5 3 6 1 7 2 8 6 9]\n",
      "----------------------------------------\n",
      "3 : 0.8998666666666667\n",
      "3 : [9 9 9 9 9 9 9 9 9 9 9 9 9 9 9 9 9 9 9 9] / [5 0 4 1 9 2 1 3 1 4 3 5 3 6 1 7 2 8 6 9]\n",
      "----------------------------------------\n",
      "4 : 0.8998666666666667\n",
      "4 : [9 9 9 9 9 9 9 9 9 9 9 9 9 9 9 9 9 9 9 9] / [5 0 4 1 9 2 1 3 1 4 3 5 3 6 1 7 2 8 6 9]\n",
      "----------------------------------------\n",
      "5 : 0.8998666666666667\n",
      "5 : [9 9 9 9 9 9 9 9 9 9 9 9 9 9 9 9 9 9 9 9] / [5 0 4 1 9 2 1 3 1 4 3 5 3 6 1 7 2 8 6 9]\n",
      "----------------------------------------\n",
      "6 : 0.8998666666666667\n",
      "6 : [9 9 9 9 9 9 9 9 9 9 9 9 9 9 9 9 9 9 9 9] / [5 0 4 1 9 2 1 3 1 4 3 5 3 6 1 7 2 8 6 9]\n",
      "----------------------------------------\n",
      "7 : 0.8998666666666667\n",
      "7 : [9 9 9 9 9 9 9 9 9 9 9 9 9 9 9 9 9 9 9 9] / [5 0 4 1 9 2 1 3 1 4 3 5 3 6 1 7 2 8 6 9]\n",
      "----------------------------------------\n",
      "8 : 0.8998666666666667\n",
      "8 : [9 9 9 9 9 9 9 9 9 9 9 9 9 9 9 9 9 9 9 9] / [5 0 4 1 9 2 1 3 1 4 3 5 3 6 1 7 2 8 6 9]\n",
      "----------------------------------------\n",
      "9 : 0.8998666666666667\n",
      "9 : [9 9 9 9 9 9 9 9 9 9 9 9 9 9 9 9 9 9 9 9] / [5 0 4 1 9 2 1 3 1 4 3 5 3 6 1 7 2 8 6 9]\n",
      "----------------------------------------\n",
      "10 : 0.8998666666666667\n",
      "10 : [9 9 9 9 9 9 9 9 9 9 9 9 9 9 9 9 9 9 9 9] / [5 0 4 1 9 2 1 3 1 4 3 5 3 6 1 7 2 8 6 9]\n",
      "----------------------------------------\n",
      "11 : 0.8998666666666667\n",
      "11 : [9 9 9 9 9 9 9 9 9 9 9 9 9 9 9 9 9 9 9 9] / [5 0 4 1 9 2 1 3 1 4 3 5 3 6 1 7 2 8 6 9]\n",
      "----------------------------------------\n",
      "12 : 0.8998666666666667\n",
      "12 : [9 9 9 9 9 9 9 9 9 9 9 9 9 9 9 9 9 9 9 9] / [5 0 4 1 9 2 1 3 1 4 3 5 3 6 1 7 2 8 6 9]\n",
      "----------------------------------------\n",
      "13 : 0.8998666666666667\n",
      "13 : [9 9 9 9 9 9 9 9 9 9 9 9 9 9 9 9 9 9 9 9] / [5 0 4 1 9 2 1 3 1 4 3 5 3 6 1 7 2 8 6 9]\n",
      "----------------------------------------\n",
      "14 : 0.8998666666666667\n",
      "14 : [9 9 9 9 9 9 9 9 9 9 9 9 9 9 9 9 9 9 9 9] / [5 0 4 1 9 2 1 3 1 4 3 5 3 6 1 7 2 8 6 9]\n",
      "----------------------------------------\n",
      "15 : 0.8998666666666667\n",
      "15 : [9 9 9 9 9 9 9 9 9 9 9 9 9 9 9 9 9 9 9 9] / [5 0 4 1 9 2 1 3 1 4 3 5 3 6 1 7 2 8 6 9]\n",
      "----------------------------------------\n",
      "16 : 0.8998666666666667\n",
      "16 : [9 9 9 9 9 9 9 9 9 9 9 9 9 9 9 9 9 9 9 9] / [5 0 4 1 9 2 1 3 1 4 3 5 3 6 1 7 2 8 6 9]\n",
      "----------------------------------------\n",
      "17 : 0.8998666666666667\n",
      "17 : [9 9 9 9 9 9 9 9 9 9 9 9 9 9 9 9 9 9 9 9] / [5 0 4 1 9 2 1 3 1 4 3 5 3 6 1 7 2 8 6 9]\n",
      "----------------------------------------\n",
      "18 : 0.8998666666666667\n",
      "18 : [9 9 9 9 9 9 9 9 9 9 9 9 9 9 9 9 9 9 9 9] / [5 0 4 1 9 2 1 3 1 4 3 5 3 6 1 7 2 8 6 9]\n",
      "----------------------------------------\n",
      "19 : 0.8998666666666667\n",
      "19 : [9 9 9 9 9 9 9 9 9 9 9 9 9 9 9 9 9 9 9 9] / [5 0 4 1 9 2 1 3 1 4 3 5 3 6 1 7 2 8 6 9]\n",
      "----------------------------------------\n",
      "19 : 0.8998666666666667\n",
      "19 : [9 9 9 9 9 9 9 9 9 9 9 9 9 9 9 9 9 9 9 9] / [5 0 4 1 9 2 1 3 1 4 3 5 3 6 1 7 2 8 6 9]\n",
      "END!\n"
     ]
    }
   ],
   "source": [
    "learning_rate = 0.0000000000000001\n",
    "num_epoch = 20\n",
    "\n",
    "for epoch in range(num_epoch):\n",
    "    \n",
    "    # forward propagation\n",
    "    z1 = X_train.dot(weight1) + bias1\n",
    "    #z1 = X_train.dot(weight1)\n",
    "    a1 = sigmoid(z1)\n",
    "    z2 = a1.dot(weight2) + bias2\n",
    "    #z2 = a1.dot(weight2)\n",
    "    a2 = sigmoid(z2)\n",
    "    z3 = a2.dot(weight3) + bias3\n",
    "    #z3 = a2.dot(weight3)\n",
    "    a3 = sigmoid(z3)\n",
    "    \n",
    "    # back propagation\n",
    "    \n",
    "    d3 = a3 - y_train\n",
    "    weight3 = weight3 - learning_rate * a2.T.dot(d3)\n",
    "    d2 = d3.dot(weight3.T) * a2 * (1 - a2)  \n",
    "    weight2 = weight2 - learning_rate * a1.T.dot(d2)\n",
    "    d1 = d2.dot(weight2.T) * a1 * (1 - a1)  \n",
    "    weight1 = weight1 - learning_rate * X_train.T.dot(d1)\n",
    "    \n",
    "#     print(a1.shape, (a1*(1 - a1)).shape)\n",
    "#     print(\"{0}, {1}ㅐ / {2}, {3}\".format(d2.shape, z2.shape, d1.shape, z1.shape))\n",
    "    \n",
    "    #error = (a3.argmax(axis=1) != y_train.argmax(axis=1)).mean()\n",
    "    error = mean_squared_error(a3,y_train)\n",
    "    \n",
    "#     if epoch % 10 == 0:\n",
    "    print(\"{0} : {1}\".format(epoch, error))\n",
    "    print(\"{0} : {1} / {2}\".format(epoch, a3.argmax(axis=1)[0:20], y_train.argmax(axis=1)[0:20]))\n",
    "    print(\"----\"*10)\n",
    "\n",
    "print(\"{0} : {1}\".format(epoch, error))\n",
    "print(\"{0} : {1} / {2}\".format(epoch, a3.argmax(axis=1)[0:20], y_train.argmax(axis=1)[0:20]))\n",
    "\n",
    "print(\"END!\")"
   ]
  },
  {
   "cell_type": "code",
   "execution_count": 52,
   "metadata": {},
   "outputs": [
    {
     "name": "stdout",
     "output_type": "stream",
     "text": [
      "(10000,) (10000,)\n"
     ]
    },
    {
     "data": {
      "text/html": [
       "<div>\n",
       "<style>\n",
       "    .dataframe thead tr:only-child th {\n",
       "        text-align: right;\n",
       "    }\n",
       "\n",
       "    .dataframe thead th {\n",
       "        text-align: left;\n",
       "    }\n",
       "\n",
       "    .dataframe tbody tr th {\n",
       "        vertical-align: top;\n",
       "    }\n",
       "</style>\n",
       "<table border=\"1\" class=\"dataframe\">\n",
       "  <thead>\n",
       "    <tr style=\"text-align: right;\">\n",
       "      <th></th>\n",
       "      <th>actual</th>\n",
       "      <th>predict</th>\n",
       "    </tr>\n",
       "  </thead>\n",
       "  <tbody>\n",
       "    <tr>\n",
       "      <th>0</th>\n",
       "      <td>7</td>\n",
       "      <td>5</td>\n",
       "    </tr>\n",
       "    <tr>\n",
       "      <th>1</th>\n",
       "      <td>2</td>\n",
       "      <td>5</td>\n",
       "    </tr>\n",
       "    <tr>\n",
       "      <th>2</th>\n",
       "      <td>1</td>\n",
       "      <td>1</td>\n",
       "    </tr>\n",
       "    <tr>\n",
       "      <th>3</th>\n",
       "      <td>0</td>\n",
       "      <td>4</td>\n",
       "    </tr>\n",
       "    <tr>\n",
       "      <th>4</th>\n",
       "      <td>4</td>\n",
       "      <td>9</td>\n",
       "    </tr>\n",
       "    <tr>\n",
       "      <th>5</th>\n",
       "      <td>1</td>\n",
       "      <td>9</td>\n",
       "    </tr>\n",
       "    <tr>\n",
       "      <th>6</th>\n",
       "      <td>4</td>\n",
       "      <td>5</td>\n",
       "    </tr>\n",
       "    <tr>\n",
       "      <th>7</th>\n",
       "      <td>9</td>\n",
       "      <td>0</td>\n",
       "    </tr>\n",
       "    <tr>\n",
       "      <th>8</th>\n",
       "      <td>5</td>\n",
       "      <td>5</td>\n",
       "    </tr>\n",
       "    <tr>\n",
       "      <th>9</th>\n",
       "      <td>9</td>\n",
       "      <td>4</td>\n",
       "    </tr>\n",
       "  </tbody>\n",
       "</table>\n",
       "</div>"
      ],
      "text/plain": [
       "   actual  predict\n",
       "0       7        5\n",
       "1       2        5\n",
       "2       1        1\n",
       "3       0        4\n",
       "4       4        9\n",
       "5       1        9\n",
       "6       4        5\n",
       "7       9        0\n",
       "8       5        5\n",
       "9       9        4"
      ]
     },
     "execution_count": 52,
     "metadata": {},
     "output_type": "execute_result"
    }
   ],
   "source": [
    "import pandas as pd\n",
    "\n",
    "# hypothesis = X_test.dot(weight1).dot(weight2).dot(weight3)\n",
    "hypothesis = X_test.dot(weight1) + bias1\n",
    "hypothesis2 = hypothesis.dot(weight2) + bias2\n",
    "hypothesis3 = hypothesis2.dot(weight3) + bias3\n",
    "\n",
    "actual = y_test.argmax(axis=1)\n",
    "predict = hypothesis3.argmax(axis=1)\n",
    "print(actual.shape, predict.shape)\n",
    "\n",
    "result = pd.DataFrame({'actual': actual, 'predict': predict})\n",
    "\n",
    "result.head(10)"
   ]
  },
  {
   "cell_type": "code",
   "execution_count": 53,
   "metadata": {},
   "outputs": [
    {
     "name": "stdout",
     "output_type": "stream",
     "text": [
      "0 Accuracy = 0.00102\n",
      "1 Accuracy = 0.02731\n",
      "2 Accuracy = 0.00581\n",
      "3 Accuracy = 0.00297\n",
      "4 Accuracy = 0.24134\n",
      "5 Accuracy = 0.11883\n",
      "6 Accuracy = 0.00000\n",
      "7 Accuracy = 0.00000\n",
      "8 Accuracy = 0.00000\n",
      "9 Accuracy = 0.25471\n"
     ]
    }
   ],
   "source": [
    "for i in range(10):\n",
    "    chunk = result[result[\"actual\"] == i]\n",
    "    accuracy = (chunk[\"actual\"] == chunk[\"predict\"]).mean()\n",
    "    \n",
    "    print(\"{0} Accuracy = {1:.5f}\".format(i, accuracy))"
   ]
  },
  {
   "cell_type": "code",
   "execution_count": null,
   "metadata": {
    "collapsed": true
   },
   "outputs": [],
   "source": []
  }
 ],
 "metadata": {
  "kernelspec": {
   "display_name": "Python 3",
   "language": "python",
   "name": "python3"
  },
  "language_info": {
   "codemirror_mode": {
    "name": "ipython",
    "version": 3
   },
   "file_extension": ".py",
   "mimetype": "text/x-python",
   "name": "python",
   "nbconvert_exporter": "python",
   "pygments_lexer": "ipython3",
   "version": "3.6.3"
  }
 },
 "nbformat": 4,
 "nbformat_minor": 2
}
